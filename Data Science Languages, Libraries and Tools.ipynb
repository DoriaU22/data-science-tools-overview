{
 "cells": [
  {
   "cell_type": "markdown",
   "metadata": {},
   "source": [
    "# Data Science Tools and Ecosystem "
   ]
  },
  {
   "cell_type": "markdown",
   "metadata": {},
   "source": [
    "## Introduction"
   ]
  },
  {
   "cell_type": "markdown",
   "metadata": {},
   "source": [
    "In this notebook, we will explore some of the most commonly used languages, libraries, and tools in the field of Data Science. It also includes examples of basic arithmetic operations using code cells.\n",
    "By completing this notebook, we will demonstrate our understanding of key Data Science concepts and our ability to use JupyterLite to document and run code interactively."
   ]
  },
  {
   "cell_type": "markdown",
   "metadata": {},
   "source": [
    "## Data Science Languages"
   ]
  },
  {
   "cell_type": "markdown",
   "metadata": {},
   "source": [
    "Some of the most popular languages that Data Scientists use are:\n",
    "\n",
    "1. Python\n",
    "2. R\n",
    "3. SQL\n",
    "4. Julia\n",
    "5. Scala\n",
    "6. Java"
   ]
  },
  {
   "cell_type": "markdown",
   "metadata": {},
   "source": [
    "## Data Science Libraries "
   ]
  },
  {
   "cell_type": "markdown",
   "metadata": {},
   "source": [
    "Here are some of the most commonly used libraries in Data Science:\n",
    "\n",
    "- **Python Libraries:**\n",
    "  - NumPy\n",
    "  - Pandas\n",
    "  - Matplotlib\n",
    "  - Seaborn\n",
    "  - Scikit-learn\n",
    "  - TensorFlow\n",
    "  - Keras\n",
    "  - PyTorch\n",
    "\n",
    "- **R Libraries:**\n",
    "  - ggplot2\n",
    "  - dplyr\n",
    "  - caret\n",
    "  - shiny"
   ]
  },
  {
   "cell_type": "markdown",
   "metadata": {},
   "source": [
    "## Data Science Tools"
   ]
  },
  {
   "cell_type": "markdown",
   "metadata": {},
   "source": [
    "Below is a table of some popular tools used in Data Science:\n",
    "\n",
    "| Tool            | Description                         |\n",
    "|-----------------|-------------------------------------|\n",
    "| Jupyter Notebook| Interactive coding environment      |\n",
    "| RStudio         | IDE for R programming               |\n",
    "| VS Code         | Source-code editor                  |\n",
    "| Apache Spark    | Big data processing engine          |\n",
    "| TensorFlow      | Machine learning framework          |\n",
    "Table 1. Tools used in Data Science"
   ]
  },
  {
   "cell_type": "markdown",
   "metadata": {},
   "source": [
    "## Arithmetic Expression Examples"
   ]
  },
  {
   "cell_type": "markdown",
   "metadata": {},
   "source": [
    "The following code cells illustrate simple arithmetic expressions in Python, such as addition, subtraction, multiplication, and division."
   ]
  },
  {
   "cell_type": "code",
   "execution_count": 6,
   "metadata": {},
   "outputs": [
    {
     "name": "stdout",
     "output_type": "stream",
     "text": [
      " 5+10 = 15\n",
      " 5*10 = 50\n"
     ]
    }
   ],
   "source": [
    "a = 5\n",
    "b = 10\n",
    "sum = a+b\n",
    "product = a*b\n",
    "print(f\" {a}+{b} = {sum}\\n {a}*{b} = {product}\")"
   ]
  },
  {
   "cell_type": "code",
   "execution_count": 9,
   "metadata": {},
   "outputs": [
    {
     "name": "stdout",
     "output_type": "stream",
     "text": [
      "60 minutes is 1.0 hour\n"
     ]
    }
   ],
   "source": [
    "# An example of division\n",
    "minutes = 60\n",
    "hours = 60\n",
    "division = minutes/hours\n",
    "print(f\"{minutes} minutes is {division} hour\")"
   ]
  },
  {
   "cell_type": "markdown",
   "metadata": {},
   "source": [
    "## Objectives"
   ]
  },
  {
   "cell_type": "markdown",
   "metadata": {},
   "source": [
    "In this course, the main objectives were:\n",
    "\n",
    "- Learn programming languages used in data science\n",
    "- Learn popular libraries\n",
    "- Use tools such as Jupyter\n",
    "- Write and run code on a notebook\n",
    "- Share work with GitHub"
   ]
  },
  {
   "cell_type": "markdown",
   "metadata": {},
   "source": [
    "## Author"
   ]
  },
  {
   "cell_type": "markdown",
   "metadata": {},
   "source": [
    "This notebook was created by **Darío Doria Usta, Engineering Student**"
   ]
  }
 ],
 "metadata": {
  "kernelspec": {
   "display_name": "Python 3 (ipykernel)",
   "language": "python",
   "name": "python3"
  },
  "language_info": {
   "codemirror_mode": {
    "name": "ipython",
    "version": 3
   },
   "file_extension": ".py",
   "mimetype": "text/x-python",
   "name": "python",
   "nbconvert_exporter": "python",
   "pygments_lexer": "ipython3",
   "version": "3.12.8"
  }
 },
 "nbformat": 4,
 "nbformat_minor": 4
}
